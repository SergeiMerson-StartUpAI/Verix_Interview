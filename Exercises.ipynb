{
 "cells": [
  {
   "cell_type": "markdown",
   "metadata": {},
   "source": [
    "# <center> Verix: Python interview questions"
   ]
  },
  {
   "cell_type": "markdown",
   "metadata": {},
   "source": [
    "Welcome to the Python examination part!  \n",
    "  \n",
    "Please carefully read the task descriptions and write you solutions in this notebook.  \n",
    "If you think that some task is not clear enough, please add your assumptions and explanations.  \n",
    "Also, it is highly appreciated that you document your code appropriately.  \n",
    "  \n",
    "When you finish please download this notebook with your solution and send it to you examinator:"
   ]
  },
  {
   "cell_type": "markdown",
   "metadata": {},
   "source": [
    "<img src=\"explanation.png\"/>"
   ]
  },
  {
   "cell_type": "markdown",
   "metadata": {},
   "source": [
    "Good luck!"
   ]
  },
  {
   "cell_type": "code",
   "execution_count": 1,
   "metadata": {
    "scrolled": true
   },
   "outputs": [],
   "source": [
    "import numpy as np\n",
    "import pandas as pd"
   ]
  },
  {
   "cell_type": "markdown",
   "metadata": {},
   "source": [
    "## Ex. 1\n",
    "\n",
    "You are given the data set of the following structure (first 5 rows):  \n",
    "\n",
    "|   observation |   dim_0 |   dim_1 |   dim_2 |   dim_3 |   dim_4 |   dim_5 |   dim_6 |   dim_7 |\n",
    "|--------------:|--------:|--------:|--------:|--------:|--------:|--------:|--------:|--------:|\n",
    "|             0 |       2 |       2 |       1 |       0 |       0 |       0 |       0 |       2 |\n",
    "|             1 |       2 |       2 |       1 |       0 |       0 |       0 |       0 |       2 |\n",
    "|             2 |       2 |       2 |       1 |       0 |       0 |       0 |       0 |       2 |\n",
    "|             3 |       2 |       2 |       1 |       0 |       0 |       0 |       0 |       2 |\n",
    "|             4 |       2 |       2 |       1 |       0 |       0 |       0 |       0 |       2 |\n",
    "\n",
    "The entire data set is located in **\"Data/ex_1.csv\"**\n",
    "\n",
    "You are asked to create a function that would build a binary tree with leaves of the minimum predefined size (meaning that it should be passed to your function as parameter), where split on each node would be based on one of provided dimensions (for simplicity use them in alphanumeric order, meaning that the first split should be performed on \"dim_0\", next - on \"dim_1\" and etc.).  \n",
    "Also it is desirable that final leaves would be as balanced as possible."
   ]
  },
  {
   "cell_type": "markdown",
   "metadata": {},
   "source": [
    "<img src=\"Tree.png\" width=700 height=400 />"
   ]
  },
  {
   "cell_type": "code",
   "execution_count": null,
   "metadata": {
    "scrolled": true
   },
   "outputs": [],
   "source": [
    "### Your solution:\n",
    "df = pd.read_csv(\"Data/ex_1.csv\")\n",
    "\n",
    "\n",
    "def build_tree(...):\n",
    "    ..."
   ]
  },
  {
   "cell_type": "markdown",
   "metadata": {},
   "source": [
    "# Ex. 2\n",
    "\n",
    "You are asked to create the information system for a local university. This university educate both local students (citizens) and students from abroad. University staff consisits of lecturers, management and outsource workers, that also should be registered in the system.\n",
    "The minimum requirements that your system should met:  \n",
    "1) Register all students by their ID (local or foreign);  \n",
    "2) Register all staff members with their personal details, bank accounts, and base salary;  \n",
    "3) You should be able to apply modifiers to specific groups (for example: raise the salary to all lectors by 10%, etc.)  \n",
    "\n",
    "Other functions are out of the scope of this exercise.\n",
    "You are welcomed and even encouraged to implement class inheritance in your solution.\n",
    "You can (but not must) start with such base class:"
   ]
  },
  {
   "cell_type": "code",
   "execution_count": null,
   "metadata": {
    "scrolled": true
   },
   "outputs": [],
   "source": [
    "### Your solution:\n",
    "\n",
    "class Person:\n",
    "    def __init__(self, _id, name, gender, ...):\n",
    "        self._id = _id\n",
    "        ..."
   ]
  },
  {
   "cell_type": "markdown",
   "metadata": {},
   "source": [
    "## Ex. 3\n",
    "\n",
    "You were hired as system administrator of Citadel Arena - the most popular virtual tournament platform in the Galaxy.  \n",
    "  \n",
    "The Citadel administration requested to prepare two tables after each match:  \n",
    "1) aggregated statistics of mean player score by race and gender:  \n",
    "  \n",
    "|            | turians   | asari   | krogans   | humans   | quarians   | salarians   | batarians   | drells   | geth   | any race   |\n",
    "|:-----------|:----------|:--------|:----------|:---------|:-----------|:------------|:------------|:---------|:-------|:-----------|\n",
    "| any gender |           |         |           |          |            |             |             |          |        |            |\n",
    "| male       |           |         |           |          |            |             |             |          |        |            |\n",
    "| female     |           |         |           |          |            |             |             |          |        |            |\n",
    "  \n",
    "2) 3 best players of all times (if there are several players with the same score - return any of them):  \n",
    "  \n",
    "|     | turians   | asari   | krogans   | humans   | quarians   | salarians   | batarians   | drells   | geth   | any race   |\n",
    "|:----|:----------|:--------|:----------|:---------|:-----------|:------------|:------------|:---------|:-------|:-----------|\n",
    "| 1st |           |         |           |          |            |             |             |          |        |            |\n",
    "| 2nd |           |         |           |          |            |             |             |          |        |            |\n",
    "| 3rd |           |         |           |          |            |             |             |          |        |            |  \n",
    "  \n",
    "The source table is stored in csv file **\"Data/ex_3.csv\"** and looks the following way:  \n",
    "\n",
    "|    |   match | name             | race    | gender   |   score |\n",
    "|---:|--------:|:-----------------|:--------|:---------|--------:|\n",
    "|  0 |       1 | Dexivia Bellraka | turians | female   |      57 |\n",
    "|  1 |       1 | Nyxeesga M'dove  | asari   | female   |      96 |\n",
    "|  2 |       1 | Curgal Gad       | krogans | male     |      37 |\n",
    "|  3 |       1 | Lys'ya Java      | asari   | female   |      18 |\n",
    "|  4 |       1 | Wells Ludlow     | humans  | male     |       4 |\n",
    "  \n",
    "After your predecessor has tried to load the entire data set (about 15M records) and crashed the whole system, he was relocated to the Arena battleground to serve as a fire exercise target.  \n",
    "In addition, a limit of 100K records per time was introduced, meaning that you will have to deal with the assigned task in batches.  \n",
    "\n",
    "Please write a function(s) that will return required result (two tables) and at the same time would not violate stated limitations."
   ]
  },
  {
   "cell_type": "code",
   "execution_count": null,
   "metadata": {
    "scrolled": true
   },
   "outputs": [],
   "source": [
    "### Your solution:\n"
   ]
  },
  {
   "cell_type": "markdown",
   "metadata": {},
   "source": [
    "## Ex. 4\n",
    "\n",
    "You received several functions developed by your teammates that you should implement in your module. The problem is that these functions sometimes raise exemptions.  \n",
    "After multiple runs you found out that there are five type of errors that you can encounter:\n",
    "- FileNotFoundError;\n",
    "- ValueError;\n",
    "- TypeError;\n",
    "- KeyError;\n",
    "- ZeroDivisionError.\n",
    "  \n",
    "You need to deal with these exemptions to guarantee that your module would make its job, but you cannot change the external functions that were passed to you.  \n",
    "Also you are requested to log all the steps of your algorithm and save it into local *txt* file.  \n",
    "Please see the notice below to understand what exemption handling is expected from you:"
   ]
  },
  {
   "cell_type": "code",
   "execution_count": null,
   "metadata": {
    "scrolled": true
   },
   "outputs": [],
   "source": [
    "from ex_5 import ext_load_data_func, ext_process_value_func\n",
    "\n",
    "\n",
    "results = []\n",
    "\n",
    "for i in range(100000):\n",
    "    # 1. Read the data from external file:\n",
    "    \"\"\"If this function fails you should skip this iteration\"\"\"\n",
    "    value = ext_load_data_func('path_to_file.csv')\n",
    "    \n",
    "    # 2. First data transformation:\n",
    "    \"\"\"If this funciton raise ZeroDivisionError you should assign 0\n",
    "    to 'value' variable, otherwise you should skip this iteration\"\"\"\n",
    "    value = ext_process_value_func(value)\n",
    "    \n",
    "    # 3. Second value transformation:\n",
    "    value = ext_process_value_func(value)\n",
    "    \"\"\"If this funciton raise ZeroDivisionError or Value error, you should\n",
    "    assign 0 to 'value' variable, otherwise you should skip this iteration\"\"\"\n",
    "    \n",
    "    # 4. Append final value:\n",
    "    results.append(value)"
   ]
  },
  {
   "cell_type": "code",
   "execution_count": null,
   "metadata": {
    "scrolled": true
   },
   "outputs": [],
   "source": [
    "### Your solution:\n"
   ]
  }
 ],
 "metadata": {
  "kernelspec": {
   "display_name": "Python 3",
   "language": "python",
   "name": "python3"
  },
  "language_info": {
   "codemirror_mode": {
    "name": "ipython",
    "version": 3
   },
   "file_extension": ".py",
   "mimetype": "text/x-python",
   "name": "python",
   "nbconvert_exporter": "python",
   "pygments_lexer": "ipython3",
   "version": "3.7.6"
  }
 },
 "nbformat": 4,
 "nbformat_minor": 4
}
